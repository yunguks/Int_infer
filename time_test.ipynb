{
 "cells": [
  {
   "cell_type": "code",
   "execution_count": 7,
   "metadata": {},
   "outputs": [],
   "source": [
    "from timeit import default_timer as timer\n",
    "import torch\n",
    "import torch.nn as nn\n",
    "from models import vgg,layers\n",
    "import torch.utils.benchmark as benchmark\n",
    "from torch.profiler import profile, record_function, ProfilerActivity"
   ]
  },
  {
   "cell_type": "code",
   "execution_count": 8,
   "metadata": {},
   "outputs": [],
   "source": [
    "def manual_seed(seed):\n",
    "    torch.manual_seed(seed) #3\n",
    "    torch.cuda.manual_seed(seed) #4.1\n",
    "    torch.cuda.manual_seed_all(seed) #4.2\n",
    "    torch.backends.cudnn.benchmark = False #5 \n",
    "    torch.backends.cudnn.deterministic = True #6\n",
    "manual_seed(42)"
   ]
  },
  {
   "cell_type": "code",
   "execution_count": 9,
   "metadata": {},
   "outputs": [],
   "source": [
    "@torch.no_grad()\n",
    "def measure_time_host(\n",
    "    model: nn.Module,\n",
    "    input_tensor: torch.Tensor,\n",
    "    num_repeats: int = 100,\n",
    "    num_warmups: int = 10,\n",
    "    synchronize: bool = True,\n",
    "    continuous_measure: bool = False,\n",
    ") -> float:\n",
    "\n",
    "    result_list = []\n",
    "    for _ in range(num_warmups):\n",
    "        _ = model.forward(input_tensor)\n",
    "    torch.cuda.synchronize()\n",
    "\n",
    "    elapsed_time_ms = 0\n",
    "\n",
    "    if continuous_measure:\n",
    "        start = timer()\n",
    "        for _ in range(num_repeats):\n",
    "            _ = model.forward(input_tensor)\n",
    "        if synchronize:\n",
    "            torch.cuda.synchronize()\n",
    "        end = timer()\n",
    "        elapsed_time_ms = (end - start) * 1000\n",
    "\n",
    "    else:\n",
    "        for _ in range(num_repeats):\n",
    "            start = timer()\n",
    "            _ = model.forward(input_tensor)\n",
    "            if synchronize:\n",
    "                torch.cuda.synchronize()\n",
    "            end = timer()\n",
    "            elapsed_time_ms += (end - start) * 1000\n",
    "            result_list.append((end-start)*1000)\n",
    "\n",
    "    return elapsed_time_ms / num_repeats, result_list\n",
    "\n",
    "@torch.no_grad()\n",
    "def measure_time_device(\n",
    "    model: nn.Module,\n",
    "    input_tensor: torch.Tensor,\n",
    "    num_repeats: int = 100,\n",
    "    num_warmups: int = 10,\n",
    "    synchronize: bool = True,\n",
    "    continuous_measure: bool = False,\n",
    ") -> float:\n",
    "\n",
    "    result_list = []\n",
    "    for _ in range(num_warmups):\n",
    "        _ = model.forward(input_tensor)\n",
    "    torch.cuda.synchronize()\n",
    "\n",
    "    elapsed_time_ms = 0\n",
    "\n",
    "    if continuous_measure:\n",
    "        start_event = torch.cuda.Event(enable_timing=True)\n",
    "        end_event = torch.cuda.Event(enable_timing=True)\n",
    "        start_event.record()\n",
    "        for _ in range(num_repeats):\n",
    "            _ = model.forward(input_tensor)\n",
    "        end_event.record()\n",
    "        if synchronize:\n",
    "            # This has to be synchronized to compute the elapsed time.\n",
    "            # Otherwise, there will be runtime error.\n",
    "            torch.cuda.synchronize()\n",
    "        elapsed_time_ms = start_event.elapsed_time(end_event)\n",
    "\n",
    "    else:\n",
    "        for _ in range(num_repeats):\n",
    "            start_event = torch.cuda.Event(enable_timing=True)\n",
    "            end_event = torch.cuda.Event(enable_timing=True)\n",
    "            start_event.record()\n",
    "            _ = model.forward(input_tensor)\n",
    "            end_event.record()\n",
    "            if synchronize:\n",
    "                # This has to be synchronized to compute the elapsed time.\n",
    "                # Otherwise, there will be runtime error.\n",
    "                torch.cuda.synchronize()\n",
    "            elapsed_time_ms += start_event.elapsed_time(end_event)\n",
    "            result_list.append(start_event.elapsed_time(end_event))\n",
    "\n",
    "    return elapsed_time_ms / num_repeats, result_list"
   ]
  },
  {
   "cell_type": "code",
   "execution_count": 10,
   "metadata": {},
   "outputs": [],
   "source": [
    "@torch.no_grad()\n",
    "def run_inference(model: nn.Module,\n",
    "                  input_tensor: torch.Tensor) -> torch.Tensor:\n",
    "\n",
    "    return model.forward(input_tensor)"
   ]
  },
  {
   "cell_type": "code",
   "execution_count": 11,
   "metadata": {},
   "outputs": [],
   "source": [
    "\n",
    "def main(model, input_tensor, result) -> None:\n",
    "\n",
    "    num_warmups = 100\n",
    "    num_repeats = 1000\n",
    "\n",
    "    model.eval()\n",
    "    model.cuda()\n",
    "\n",
    "    # Input tensor\n",
    "    input_tensor = input_tensor.cuda()\n",
    "\n",
    "    torch.cuda.synchronize()\n",
    "\n",
    "    # print(\"Latency Measurement Using CPU Timer...\")\n",
    "    for continuous_measure in [False]:\n",
    "        for synchronize in [True]:\n",
    "            try:\n",
    "                latency_ms, perones_total = measure_time_host(\n",
    "                    model=model,\n",
    "                    input_tensor=input_tensor,\n",
    "                    num_repeats=num_repeats,\n",
    "                    num_warmups=num_warmups,\n",
    "                    synchronize=synchronize,\n",
    "                    continuous_measure=continuous_measure,\n",
    "                )\n",
    "                print(f\"|\"\n",
    "                      f\"Synchronization: {synchronize!s:5}| \"\n",
    "                      f\"Continuous Measurement: {continuous_measure!s:5}| \"\n",
    "                      f\"Latency: {latency_ms:.5f} ms| \")\n",
    "                result.append(round(latency_ms,5))\n",
    "            except Exception as e:\n",
    "                print(f\"|\"\n",
    "                      f\"Synchronization: {synchronize!s:5}| \"\n",
    "                      f\"Continuous Measurement: {continuous_measure!s:5}| \"\n",
    "                      f\"Latency: N/A     ms| \")\n",
    "                result.append(-1)\n",
    "            torch.cuda.synchronize()\n",
    "\n",
    "    # print(\"Latency Measurement Using CUDA Timer...\")\n",
    "    for continuous_measure in [False]:\n",
    "        for synchronize in [True]:\n",
    "            try:\n",
    "                latency_ms, perones_gpu = measure_time_device(\n",
    "                    model=model,\n",
    "                    input_tensor=input_tensor,\n",
    "                    num_repeats=num_repeats,\n",
    "                    num_warmups=num_warmups,\n",
    "                    synchronize=synchronize,\n",
    "                    continuous_measure=continuous_measure,\n",
    "                )\n",
    "                print(f\"|\"\n",
    "                      f\"Synchronization: {synchronize!s:5}| \"\n",
    "                      f\"Continuous Measurement: {continuous_measure!s:5}| \"\n",
    "                      f\"Latency: {latency_ms:.5f} ms| \")\n",
    "                result.append(round(latency_ms,5))\n",
    "            except Exception as e:\n",
    "                print(f\"|\"\n",
    "                      f\"Synchronization: {synchronize!s:5}| \"\n",
    "                      f\"Continuous Measurement: {continuous_measure!s:5}| \"\n",
    "                      f\"Latency: N/A     ms| \")\n",
    "                result.append(-1)\n",
    "            torch.cuda.synchronize()\n",
    "\n",
    "    # print(\"Latency Measurement Using PyTorch Benchmark...\")\n",
    "    num_threads = 1\n",
    "    timer = benchmark.Timer(stmt=\"run_inference(model, input_tensor)\",\n",
    "                            setup=\"from __main__ import run_inference\",\n",
    "                            globals={\n",
    "                                \"model\": model,\n",
    "                                \"input_tensor\": input_tensor\n",
    "                            },\n",
    "                            num_threads=num_threads,\n",
    "                            label=\"Latency Measurement\",\n",
    "                            sub_label=\"torch.utils.benchmark.\")\n",
    "\n",
    "    profile_result = timer.timeit(num_repeats)\n",
    "    result.append(round(profile_result.mean*1000,5))\n",
    "    # https://pytorch.org/docs/stable/_modules/torch/utils/benchmark/utils/common.html#Measurement\n",
    "    # print(f\"Latency: {profile_result.mean * 1000:.5f} ms\")\n",
    "    return result, perones_total, perones_gpu"
   ]
  },
  {
   "cell_type": "code",
   "execution_count": 12,
   "metadata": {},
   "outputs": [
    {
     "name": "stdout",
     "output_type": "stream",
     "text": [
      "\n",
      "\n",
      "--------- PYTORCH Conv2d 3 LAYER -----------\n",
      "|Synchronization: True | Continuous Measurement: False| Latency: 0.23428 ms| \n",
      "|Synchronization: True | Continuous Measurement: False| Latency: 0.19127 ms| \n",
      "\n",
      "\n",
      "--------- FloatConv2d 3 LAYER -----------\n",
      "|Synchronization: True | Continuous Measurement: False| Latency: 0.29191 ms| \n",
      "|Synchronization: True | Continuous Measurement: False| Latency: 0.26264 ms| \n",
      "\n",
      "\n",
      "--------- IntConv2d 3 LAYER -----------\n",
      "|Synchronization: True | Continuous Measurement: False| Latency: 0.70452 ms| \n",
      "|Synchronization: True | Continuous Measurement: False| Latency: 0.64934 ms| \n"
     ]
    }
   ],
   "source": [
    "if __name__==\"__main__\":\n",
    "    # print(\"--------- TOTAL PYTORCH MODEL -----------\")\n",
    "    # model = vgg.vgg16()\n",
    "    # tensor = torch.rand((1,4, 224,224))\n",
    "    # main(model, tensor, [])\n",
    "    # print(\"--------- TOTAL FLOAT MODEL -----------\")\n",
    "    # model = vgg.float_vgg16()\n",
    "    # tensor = torch.rand((1,224,224,4))\n",
    "    # main(model, tensor)\n",
    "    # print(\"\\n\\n--------- TOTAL INT8 MODEL -----------\")\n",
    "    # model = vgg.int_vgg16()\n",
    "    # tensor = torch.randint(-128,127,(1,224,224,4),dtype=torch.int8)\n",
    "    # main(model, tensor)\n",
    "    print(\"\\n\\n--------- PYTORCH Conv2d 3 LAYER -----------\")\n",
    "    layer = nn.Conv2d(128,128,3)\n",
    "    tensor = torch.rand((1,128, 112,112))\n",
    "    _, conv3_pytorch, _ = main(layer, tensor, [])\n",
    "    print(\"\\n\\n--------- FloatConv2d 3 LAYER -----------\")\n",
    "    layer = layers.FLOATConv2d(128,128,3)\n",
    "    tensor = torch.rand((1,112,112,128))\n",
    "    _, conv3_float, _ = main(layer, tensor, [])\n",
    "    print(\"\\n\\n--------- IntConv2d 3 LAYER -----------\")\n",
    "    layer = layers.IntConv2d(128,128,3)\n",
    "    tensor = torch.randint(-128,127,(1,112,112,128),dtype=torch.int8)\n",
    "    _, conv3_int, _ = main(layer, tensor, [])\n",
    "    # batch_size = 100\n",
    "    # print(\"\\n\\n--------- PYTORCH Linear 1 LAYER -----------\")\n",
    "    # layer = nn.Linear(25088,4096)\n",
    "    # tensor = torch.rand((batch_size,25088))\n",
    "    # _, linear1_pytorch, _ = main(layer, tensor, [])\n",
    "    # print(\"\\n\\n--------- FloatLinear 1 LAYER -----------\")\n",
    "    # layer = layers.FLOATLinear(25088,4096)\n",
    "    # tensor = torch.rand((batch_size,25088))\n",
    "    # _, linear1_float, _ = main(layer, tensor, [])\n",
    "    # print(\"\\n\\n--------- IntLinear 1 LAYER -----------\")\n",
    "    # layer = layers.IntLinear(25088,4096)\n",
    "    # tensor = torch.randint(-128,127,(batch_size,25088),dtype=torch.int8)\n",
    "    # _, linear1_int, _ = main(layer, tensor, [])\n",
    "\n",
    "    # print(\"\\n\\n--------- PYTORCH Linear 2 LAYER -----------\")\n",
    "    # layer = nn.Linear(4096,4096)\n",
    "    # tensor = torch.rand((batch_size,4096))\n",
    "    # _, linear2_pytorch, _ = main(layer, tensor, [])\n",
    "    # print(\"\\n\\n--------- FloatLinear 2 LAYER -----------\")\n",
    "    # layer = layers.FLOATLinear(4096,4096)\n",
    "    # tensor = torch.rand((batch_size,4096))\n",
    "    # _, linear2_float, _ =main(layer, tensor, [])\n",
    "    # print(\"\\n\\n--------- IntLinear 2 LAYER -----------\")\n",
    "    # layer = layers.IntLinear(4096,4096)\n",
    "    # tensor = torch.randint(-128,127,(batch_size,4096),dtype=torch.int8)\n",
    "    # _, linear2_int, _ = main(layer, tensor, [])\n",
    "\n",
    "    # print(\"\\n\\n--------- PYTORCH Linear 3 LAYER -----------\")\n",
    "    # layer = nn.Linear(4096,100)\n",
    "    # tensor = torch.rand((batch_size,4096))\n",
    "    # _, linear3_pytorch, _ = main(layer, tensor, [])\n",
    "    # print(\"\\n\\n--------- FloatLinear 3 LAYER -----------\")\n",
    "    # layer = layers.FLOATLinear(4096,100)\n",
    "    # tensor = torch.rand((batch_size,4096))\n",
    "    # _, linear3_float, _ = main(layer, tensor, [])\n",
    "    # print(\"\\n\\n--------- IntLinear 3 LAYER -----------\")\n",
    "    # layer = layers.IntLinear(4096,100)\n",
    "    # tensor = torch.randint(-128,127,(batch_size,4096),dtype=torch.int8)\n",
    "    # _, linear3_int, _ = main(layer, tensor, [])\n",
    "    # layer = layers.IntLinear(4096, 4096)\n",
    "    # tensor = torch.randint(-128,127,(10000,4096), dtype=torch.int8)\n",
    "    # result, conv3_pytorch, _ = main(layer, tensor, [])\n",
    "    \n",
    "    # layer = layers.FLOATLinear(4096, 4096)\n",
    "    # tensor = torch.rand((10000,4096))\n",
    "    # result, conv3_pytorch, _ = main(layer, tensor, [])\n",
    "\n"
   ]
  },
  {
   "cell_type": "code",
   "execution_count": 13,
   "metadata": {},
   "outputs": [
    {
     "name": "stderr",
     "output_type": "stream",
     "text": [
      "STAGE:2023-11-28 04:48:03 187717:187717 ActivityProfilerController.cpp:311] Completed Stage: Warm Up\n",
      "STAGE:2023-11-28 04:48:03 187717:187717 ActivityProfilerController.cpp:317] Completed Stage: Collection\n",
      "STAGE:2023-11-28 04:48:03 187717:187717 ActivityProfilerController.cpp:321] Completed Stage: Post Processing\n"
     ]
    }
   ],
   "source": [
    "\n",
    "\n",
    "model = vgg.vgg16().cuda()\n",
    "tensor = torch.rand((1,4, 224,224)).cuda()\n",
    "with profile(activities=[ProfilerActivity.CPU, ProfilerActivity.CUDA], record_shapes=True, profile_memory=True) as prof:\n",
    "    with torch.no_grad():\n",
    "        y = model(tensor)"
   ]
  },
  {
   "cell_type": "code",
   "execution_count": 14,
   "metadata": {},
   "outputs": [
    {
     "name": "stdout",
     "output_type": "stream",
     "text": [
      "-------------------------------------------------------  ------------  ------------  ------------  ------------  ------------  ------------  ------------  ------------  ------------  ------------  ------------  ------------  ------------  ------------  \n",
      "                                                   Name    Self CPU %      Self CPU   CPU total %     CPU total  CPU time avg     Self CUDA   Self CUDA %    CUDA total  CUDA time avg       CPU Mem  Self CPU Mem      CUDA Mem  Self CUDA Mem    # of Calls  \n",
      "-------------------------------------------------------  ------------  ------------  ------------  ------------  ------------  ------------  ------------  ------------  ------------  ------------  ------------  ------------  ------------  ------------  \n",
      "                                      aten::convolution         0.20%      39.000us        85.15%      16.560ms       1.274ms       0.000us         0.00%       3.810ms     293.077us           0 b           0 b      51.68 Mb           0 b            13  \n",
      "                                     aten::_convolution         0.73%     142.000us        84.90%      16.513ms       1.270ms       0.000us         0.00%       3.807ms     292.846us           0 b           0 b      51.68 Mb           0 b            13  \n",
      "                                           aten::conv2d         8.34%       1.623ms        85.35%      16.600ms       1.277ms       0.000us         0.00%       3.717ms     285.923us           0 b           0 b      51.68 Mb       3.06 Mb            13  \n",
      "                                aten::cudnn_convolution        77.59%      15.091ms        83.02%      16.146ms       1.242ms       1.556ms        63.85%       3.673ms     282.538us           0 b           0 b      51.68 Mb      51.68 Mb            13  \n",
      "                                  cudaFuncGetAttributes         2.64%     514.000us         2.64%     514.000us       0.657us       2.081ms        85.39%       2.081ms       2.661us           0 b           0 b           0 b           0 b           782  \n",
      "                                           aten::linear         0.06%      12.000us         2.48%     483.000us     161.000us       0.000us         0.00%     559.000us     186.333us           0 b           0 b       8.16 Mb           0 b             3  \n",
      "                                            aten::addmm         1.16%     226.000us         2.28%     444.000us     148.000us     559.000us        22.94%     559.000us     186.333us           0 b           0 b       8.16 Mb       5.16 Mb             3  \n",
      "std::enable_if<!(false), void>::type internal::gemvx...         0.00%       0.000us         0.00%       0.000us       0.000us     472.000us        19.37%     472.000us     472.000us           0 b           0 b           0 b           0 b             1  \n",
      "sm80_xmma_fprop_implicit_gemm_indexed_tf32f32_tf32f3...         0.00%       0.000us         0.00%       0.000us       0.000us     414.000us        16.99%     414.000us     138.000us           0 b           0 b           0 b           0 b             3  \n",
      "void cutlass_cudnn::Kernel<cutlass_tensorop_s1688fpr...         0.00%       0.000us         0.00%       0.000us       0.000us     311.000us        12.76%     311.000us     103.667us           0 b           0 b           0 b           0 b             3  \n",
      "sm86_xmma_fprop_implicit_gemm_indexed_tf32f32_tf32f3...         0.00%       0.000us         0.00%       0.000us       0.000us     280.000us        11.49%     280.000us      70.000us           0 b           0 b           0 b           0 b             4  \n",
      "void cudnn::ops::nchwToNhwcKernel<float, float, floa...         0.00%       0.000us         0.00%       0.000us       0.000us     264.000us        10.83%     264.000us      11.000us           0 b           0 b           0 b           0 b            24  \n",
      "sm86_xmma_fprop_implicit_gemm_tf32f32_tf32f32_f32_nh...         0.00%       0.000us         0.00%       0.000us       0.000us     223.000us         9.15%     223.000us     111.500us           0 b           0 b           0 b           0 b             2  \n",
      "                                             aten::add_         0.57%     110.000us         0.87%     170.000us      13.077us     134.000us         5.50%     137.000us      10.538us           0 b           0 b           0 b           0 b            13  \n",
      "void at::native::elementwise_kernel<128, 2, at::nati...         0.00%       0.000us         0.00%       0.000us       0.000us     134.000us         5.50%     134.000us      10.308us           0 b           0 b           0 b           0 b            13  \n",
      "void at::native::vectorized_elementwise_kernel<4, at...         0.00%       0.000us         0.00%       0.000us       0.000us     125.000us         5.13%     125.000us       8.333us           0 b           0 b           0 b           0 b            15  \n",
      "                                             aten::relu         0.21%      40.000us         1.74%     339.000us      26.077us       0.000us         0.00%     124.000us       9.538us           0 b           0 b      51.68 Mb           0 b            13  \n",
      "                                        aten::clamp_min         0.62%     120.000us         1.54%     299.000us      23.000us     121.000us         4.97%     124.000us       9.538us           0 b           0 b      51.68 Mb      51.68 Mb            13  \n",
      "void gemv2T_kernel_val<int, int, float, float, float...         0.00%       0.000us         0.00%       0.000us       0.000us      80.000us         3.28%      80.000us      80.000us           0 b           0 b           0 b           0 b             1  \n",
      "                                       aten::max_pool2d         0.10%      19.000us         0.58%     113.000us      22.600us       0.000us         0.00%      59.000us      11.800us           0 b           0 b       7.78 Mb      -9.95 Mb             5  \n",
      "                          aten::max_pool2d_with_indices         0.30%      58.000us         0.48%      94.000us      18.800us      59.000us         2.42%      59.000us      11.800us           0 b           0 b      17.73 Mb      17.73 Mb             5  \n",
      "void at::native::(anonymous namespace)::max_pool_for...         0.00%       0.000us         0.00%       0.000us       0.000us      59.000us         2.42%      59.000us      11.800us           0 b           0 b           0 b           0 b             5  \n",
      "                                  cudaStreamGetPriority         0.00%       0.000us         0.00%       0.000us       0.000us      32.000us         1.31%      32.000us       2.462us           0 b           0 b           0 b           0 b            13  \n",
      "           cudnn_ampere_scudnn_128x64_relu_medium_nn_v1         0.00%       0.000us         0.00%       0.000us       0.000us      32.000us         1.31%      32.000us      32.000us           0 b           0 b           0 b           0 b             1  \n",
      "void cudnn::ops::nhwcToNchwKernel<float, float, floa...         0.00%       0.000us         0.00%       0.000us       0.000us      30.000us         1.23%      30.000us       5.000us           0 b           0 b           0 b           0 b             6  \n",
      "                                       cudaLaunchKernel         2.63%     512.000us         2.63%     512.000us       6.169us       7.000us         0.29%       7.000us       0.084us           0 b           0 b           0 b           0 b            83  \n",
      "void dot_kernel<float, 128, 0, cublasDotParams<cubla...         0.00%       0.000us         0.00%       0.000us       0.000us       5.000us         0.21%       5.000us       5.000us           0 b           0 b           0 b           0 b             1  \n",
      "                                            aten::relu_         0.06%      12.000us         0.16%      32.000us      16.000us       0.000us         0.00%       4.000us       2.000us           0 b           0 b           0 b           0 b             2  \n",
      "                                       aten::clamp_min_         0.06%      12.000us         0.10%      20.000us      10.000us       4.000us         0.16%       4.000us       2.000us           0 b           0 b           0 b           0 b             2  \n",
      "                                          aten::dropout         0.04%       8.000us         0.52%     102.000us      51.000us       0.000us         0.00%       4.000us       2.000us           0 b           0 b      36.00 Kb      -4.00 Kb             2  \n",
      "                                   aten::native_dropout         0.24%      47.000us         0.48%      94.000us      47.000us       4.000us         0.16%       4.000us       2.000us           0 b           0 b      40.00 Kb           0 b             2  \n",
      "void at::native::(anonymous namespace)::fused_dropou...         0.00%       0.000us         0.00%       0.000us       0.000us       4.000us         0.16%       4.000us       2.000us           0 b           0 b           0 b           0 b             2  \n",
      "                                  cudaStreamIsCapturing         0.01%       2.000us         0.01%       2.000us       0.118us       3.000us         0.12%       3.000us       0.176us           0 b           0 b           0 b           0 b            17  \n",
      "void cask_cudnn::computeOffsetsKernel<false, false>(...         0.00%       0.000us         0.00%       0.000us       0.000us       2.000us         0.08%       2.000us       2.000us           0 b           0 b           0 b           0 b             1  \n",
      "void reduce_1Block_kernel<float, 128, 7, cublasGemvT...         0.00%       0.000us         0.00%       0.000us       0.000us       2.000us         0.08%       2.000us       2.000us           0 b           0 b           0 b           0 b             1  \n",
      "                       cudaDeviceGetStreamPriorityRange         0.00%       0.000us         0.00%       0.000us       0.000us       0.000us         0.00%       0.000us       0.000us           0 b           0 b           0 b           0 b            13  \n",
      "                                        cudaMemsetAsync         0.16%      31.000us         0.16%      31.000us       3.875us       0.000us         0.00%       0.000us       0.000us           0 b           0 b           0 b           0 b             8  \n",
      "                                          aten::reshape         0.26%      50.000us         0.32%      62.000us       4.769us       0.000us         0.00%       0.000us       0.000us           0 b           0 b           0 b           0 b            13  \n",
      "                                   aten::_reshape_alias         0.12%      24.000us         0.12%      24.000us       1.714us       0.000us         0.00%       0.000us       0.000us           0 b           0 b           0 b           0 b            14  \n",
      "                                             cudaMalloc         1.58%     307.000us         1.58%     307.000us      61.400us       0.000us         0.00%       0.000us       0.000us           0 b           0 b           0 b           0 b             5  \n",
      "                                               [memory]         0.00%       0.000us         0.00%       0.000us       0.000us       0.000us         0.00%       0.000us       0.000us           0 b           0 b    -111.21 Mb    -111.21 Mb            38  \n",
      "                                   cudaFuncSetAttribute         0.76%     148.000us         0.76%     148.000us       7.789us       0.000us         0.00%       0.000us       0.000us           0 b           0 b           0 b           0 b            19  \n",
      "                                        Memset (Device)         0.00%       0.000us         0.00%       0.000us       0.000us       0.000us         0.00%       0.000us       0.000us           0 b           0 b           0 b           0 b             7  \n",
      "                                          aten::flatten         0.02%       3.000us         0.07%      14.000us      14.000us       0.000us         0.00%       0.000us       0.000us           0 b           0 b           0 b           0 b             1  \n",
      "                                                aten::t         0.06%      12.000us         0.14%      27.000us       9.000us       0.000us         0.00%       0.000us       0.000us           0 b           0 b           0 b           0 b             3  \n",
      "                                        aten::transpose         0.04%       8.000us         0.08%      15.000us       5.000us       0.000us         0.00%       0.000us       0.000us           0 b           0 b           0 b           0 b             3  \n",
      "                                       aten::as_strided         0.04%       7.000us         0.04%       7.000us       2.333us       0.000us         0.00%       0.000us       0.000us           0 b           0 b           0 b           0 b             3  \n",
      "                                            aten::empty         0.04%       8.000us         0.04%       8.000us       2.667us       0.000us         0.00%       0.000us       0.000us           0 b           0 b       3.00 Mb       3.00 Mb             3  \n",
      "                                               cudaFree         0.01%       1.000us         0.01%       1.000us       1.000us       0.000us         0.00%       0.000us       0.000us           0 b           0 b           0 b           0 b             1  \n",
      "cudaOccupancyMaxActiveBlocksPerMultiprocessorWithFla...         0.31%      60.000us         0.31%      60.000us      20.000us       0.000us         0.00%       0.000us       0.000us           0 b           0 b           0 b           0 b             3  \n",
      "                                       aten::empty_like         0.04%       8.000us         0.10%      20.000us       5.000us       0.000us         0.00%       0.000us       0.000us           0 b           0 b      40.00 Kb      16.00 Kb             4  \n",
      "                                    aten::empty_strided         0.06%      12.000us         0.06%      12.000us       3.000us       0.000us         0.00%       0.000us       0.000us           0 b           0 b      24.00 Kb      24.00 Kb             4  \n",
      "                                  cudaDeviceSynchronize         0.94%     183.000us         0.94%     183.000us     183.000us       0.000us         0.00%       0.000us       0.000us           0 b           0 b           0 b           0 b             1  \n",
      "-------------------------------------------------------  ------------  ------------  ------------  ------------  ------------  ------------  ------------  ------------  ------------  ------------  ------------  ------------  ------------  ------------  \n",
      "Self CPU time total: 19.449ms\n",
      "Self CUDA time total: 2.437ms\n",
      "\n"
     ]
    }
   ],
   "source": [
    "print(prof.key_averages().table(sort_by=\"cuda_time_total\"))"
   ]
  },
  {
   "cell_type": "code",
   "execution_count": 15,
   "metadata": {},
   "outputs": [
    {
     "name": "stderr",
     "output_type": "stream",
     "text": [
      "STAGE:2023-11-28 04:48:04 187717:187717 ActivityProfilerController.cpp:311] Completed Stage: Warm Up\n",
      "STAGE:2023-11-28 04:48:04 187717:187717 ActivityProfilerController.cpp:317] Completed Stage: Collection\n",
      "STAGE:2023-11-28 04:48:04 187717:187717 ActivityProfilerController.cpp:321] Completed Stage: Post Processing\n",
      "[W collection.cpp:700] Warning: Failed to recover relationship between all profiler and kineto events: 4 vs. 0  reassociated. (function reassociate)\n"
     ]
    }
   ],
   "source": [
    "tensor = torch.rand((1,112,112,128)).cuda()\n",
    "layer = layers.FLOATConv2d(128,128)\n",
    "layer.cuda()\n",
    "with profile(activities=[ProfilerActivity.CUDA], record_shapes=True, profile_memory=True) as prof:\n",
    "    with torch.no_grad():\n",
    "        y = layer(tensor)"
   ]
  },
  {
   "cell_type": "code",
   "execution_count": 16,
   "metadata": {},
   "outputs": [
    {
     "name": "stdout",
     "output_type": "stream",
     "text": [
      "-------------------------------------------------------  ------------  ------------  ------------  ------------  ------------  ------------  ------------  ------------  ------------  ------------  ------------  ------------  ------------  ------------  \n",
      "                                                   Name    Self CPU %      Self CPU   CPU total %     CPU total  CPU time avg     Self CUDA   Self CUDA %    CUDA total  CUDA time avg       CPU Mem  Self CPU Mem      CUDA Mem  Self CUDA Mem    # of Calls  \n",
      "-------------------------------------------------------  ------------  ------------  ------------  ------------  ------------  ------------  ------------  ------------  ------------  ------------  ------------  ------------  ------------  ------------  \n",
      "void cutlass_cudnn::Kernel<cutlass_tensorop_s1688fpr...         0.00%       0.000us         0.00%       0.000us       0.000us     126.000us        82.89%     126.000us     126.000us           0 b           0 b           0 b           0 b             1  \n",
      "void cudnn::ops::convertTensor_kernel<float, float, ...         0.00%       0.000us         0.00%       0.000us       0.000us      21.000us        13.82%      21.000us      21.000us           0 b           0 b           0 b           0 b             1  \n",
      "void cudnn::ops::nchwToNhwcKernel<float, float, floa...         0.00%       0.000us         0.00%       0.000us       0.000us       5.000us         3.29%       5.000us       5.000us           0 b           0 b           0 b           0 b             1  \n",
      "                                  cudaStreamIsCapturing         0.57%       2.000us         0.57%       2.000us       1.000us       0.000us         0.00%       0.000us       0.000us           0 b           0 b           0 b           0 b             2  \n",
      "                                  cudaStreamGetPriority         0.29%       1.000us         0.29%       1.000us       1.000us       0.000us         0.00%       0.000us       0.000us           0 b           0 b           0 b           0 b             1  \n",
      "                       cudaDeviceGetStreamPriorityRange         0.00%       0.000us         0.00%       0.000us       0.000us       0.000us         0.00%       0.000us       0.000us           0 b           0 b           0 b           0 b             1  \n",
      "                                               [memory]         0.00%       0.000us         0.00%       0.000us       0.000us       0.000us         0.00%       0.000us       0.000us           0 b           0 b       6.12 Mb       6.12 Mb             4  \n",
      "                                  cudaFuncGetAttributes         4.57%      16.000us         4.57%      16.000us       1.600us       0.000us         0.00%       0.000us       0.000us           0 b           0 b           0 b           0 b            10  \n",
      "                                   cudaFuncSetAttribute         0.29%       1.000us         0.29%       1.000us       0.167us       0.000us         0.00%       0.000us       0.000us           0 b           0 b           0 b           0 b             6  \n",
      "                                             cudaMalloc        42.86%     150.000us        42.86%     150.000us     150.000us       0.000us         0.00%       0.000us       0.000us           0 b           0 b           0 b           0 b             1  \n",
      "                                       cudaLaunchKernel         8.29%      29.000us         8.29%      29.000us       9.667us       0.000us         0.00%       0.000us       0.000us           0 b           0 b           0 b           0 b             3  \n",
      "                                  cudaDeviceSynchronize        43.14%     151.000us        43.14%     151.000us     151.000us       0.000us         0.00%       0.000us       0.000us           0 b           0 b           0 b           0 b             1  \n",
      "-------------------------------------------------------  ------------  ------------  ------------  ------------  ------------  ------------  ------------  ------------  ------------  ------------  ------------  ------------  ------------  ------------  \n",
      "Self CPU time total: 350.000us\n",
      "Self CUDA time total: 152.000us\n",
      "\n"
     ]
    }
   ],
   "source": [
    "print(prof.key_averages().table(sort_by=\"cuda_time_total\"))"
   ]
  },
  {
   "cell_type": "code",
   "execution_count": 17,
   "metadata": {},
   "outputs": [
    {
     "name": "stderr",
     "output_type": "stream",
     "text": [
      "STAGE:2023-11-28 04:48:04 187717:187717 ActivityProfilerController.cpp:311] Completed Stage: Warm Up\n",
      "STAGE:2023-11-28 04:48:04 187717:187717 ActivityProfilerController.cpp:317] Completed Stage: Collection\n",
      "STAGE:2023-11-28 04:48:04 187717:187717 ActivityProfilerController.cpp:321] Completed Stage: Post Processing\n",
      "[W collection.cpp:700] Warning: Failed to recover relationship between all profiler and kineto events: 2 vs. 0  reassociated. (function reassociate)\n"
     ]
    }
   ],
   "source": [
    "tensor = torch.randint(-128,127,(1,112,112,128), dtype=torch.int8).cuda()\n",
    "layer = layers.IntConv2d(128,128)\n",
    "layer.cuda()\n",
    "with profile(activities=[ProfilerActivity.CUDA], record_shapes=True, profile_memory=True) as prof:\n",
    "    with torch.no_grad():\n",
    "        y = layer(tensor)"
   ]
  },
  {
   "cell_type": "code",
   "execution_count": 18,
   "metadata": {},
   "outputs": [
    {
     "name": "stdout",
     "output_type": "stream",
     "text": [
      "-------------------------------------------------------  ------------  ------------  ------------  ------------  ------------  ------------  ------------  ------------  ------------  ------------  ------------  ------------  \n",
      "                                                   Name    Self CPU %      Self CPU   CPU total %     CPU total  CPU time avg     Self CUDA   Self CUDA %    CUDA total  CUDA time avg       CPU Mem  Self CPU Mem    # of Calls  \n",
      "-------------------------------------------------------  ------------  ------------  ------------  ------------  ------------  ------------  ------------  ------------  ------------  ------------  ------------  ------------  \n",
      "void convolve_common_engine_int8_NHWC<char, int, int...         0.00%       0.000us         0.00%       0.000us       0.000us     382.000us       100.00%     382.000us     382.000us           0 b           0 b             1  \n",
      "                                  cudaStreamIsCapturing         0.23%       1.000us         0.23%       1.000us       1.000us       0.000us         0.00%       0.000us       0.000us           0 b           0 b             1  \n",
      "                                  cudaStreamGetPriority         0.23%       1.000us         0.23%       1.000us       1.000us       0.000us         0.00%       0.000us       0.000us           0 b           0 b             1  \n",
      "                       cudaDeviceGetStreamPriorityRange         0.00%       0.000us         0.00%       0.000us       0.000us       0.000us         0.00%       0.000us       0.000us           0 b           0 b             1  \n",
      "                                               [memory]         0.00%       0.000us         0.00%       0.000us       0.000us       0.000us         0.00%       0.000us       0.000us           0 b           0 b             2  \n",
      "                                       cudaLaunchKernel         5.59%      24.000us         5.59%      24.000us      24.000us       0.000us         0.00%       0.000us       0.000us           0 b           0 b             1  \n",
      "                                  cudaDeviceSynchronize        93.94%     403.000us        93.94%     403.000us     403.000us       0.000us         0.00%       0.000us       0.000us           0 b           0 b             1  \n",
      "-------------------------------------------------------  ------------  ------------  ------------  ------------  ------------  ------------  ------------  ------------  ------------  ------------  ------------  ------------  \n",
      "Self CPU time total: 429.000us\n",
      "Self CUDA time total: 382.000us\n",
      "\n"
     ]
    }
   ],
   "source": [
    "print(prof.key_averages().table(sort_by=\"cuda_time_total\"))"
   ]
  },
  {
   "cell_type": "code",
   "execution_count": 19,
   "metadata": {},
   "outputs": [],
   "source": [
    "import matplotlib.pyplot as plt\n",
    "# linear1_float.sort()\n",
    "# linear1_int.sort()\n",
    "# linear1_pytorch.sort()\n",
    "# linear2_float.sort()\n",
    "# linear2_int.sort()\n",
    "# linear2_pytorch.sort()\n",
    "# linear3_float.sort()\n",
    "# linear3_int.sort()\n",
    "# linear3_pytorch.sort()\n"
   ]
  },
  {
   "cell_type": "code",
   "execution_count": 23,
   "metadata": {},
   "outputs": [
    {
     "name": "stdout",
     "output_type": "stream",
     "text": [
      "1000 1000 1000\n"
     ]
    },
    {
     "data": {
      "image/png": "[encoded data removed]",
      "text/plain": [
       "<Figure size 1000x500 with 1 Axes>"
      ]
     },
     "metadata": {},
     "output_type": "display_data"
    }
   ],
   "source": [
    "plt.figure(figsize=(10,5))\n",
    "print(len(conv3_int), len(conv3_float), len(conv3_pytorch))\n",
    "plt.hist(conv3_int, bins=50, alpha=0.7, histtype='stepfilled', label='Int')\n",
    "plt.hist(conv3_float, bins=50, alpha=0.5, histtype='stepfilled', color='red', label='Float')\n",
    "plt.hist(conv3_pytorch, bins=50, alpha=0.5, histtype='stepfilled', color='green', label='Pytorch')\n",
    "plt.legend()\n",
    "plt.title(\"Conv2d, in_channel=128, out_channel=128, hw=112\")\n",
    "plt.xlim(0,1.5)\n",
    "plt.show()"
   ]
  },
  {
   "cell_type": "code",
   "execution_count": 21,
   "metadata": {},
   "outputs": [
    {
     "ename": "NameError",
     "evalue": "name 'linear1_int' is not defined",
     "output_type": "error",
     "traceback": [
      "\u001b[0;31m---------------------------------------------------------------------------\u001b[0m",
      "\u001b[0;31mNameError\u001b[0m                                 Traceback (most recent call last)",
      "\u001b[1;32m/workspace/int_infer/time_test.ipynb Cell 15\u001b[0m line \u001b[0;36m2\n\u001b[1;32m      <a href='vscode-notebook-cell://attached-container%2B7b22636f6e7461696e65724e616d65223a222f696e66616c6c69626c655f616c6c656e227d/workspace/int_infer/time_test.ipynb#X23sdnNjb2RlLXJlbW90ZQ%3D%3D?line=0'>1</a>\u001b[0m plt\u001b[39m.\u001b[39mfigure(figsize\u001b[39m=\u001b[39m(\u001b[39m10\u001b[39m,\u001b[39m5\u001b[39m))\n\u001b[0;32m----> <a href='vscode-notebook-cell://attached-container%2B7b22636f6e7461696e65724e616d65223a222f696e66616c6c69626c655f616c6c656e227d/workspace/int_infer/time_test.ipynb#X23sdnNjb2RlLXJlbW90ZQ%3D%3D?line=1'>2</a>\u001b[0m plt\u001b[39m.\u001b[39mhist(linear1_int, bins\u001b[39m=\u001b[39m\u001b[39m50\u001b[39m, alpha\u001b[39m=\u001b[39m\u001b[39m0.7\u001b[39m, histtype\u001b[39m=\u001b[39m\u001b[39m'\u001b[39m\u001b[39mstepfilled\u001b[39m\u001b[39m'\u001b[39m, label\u001b[39m=\u001b[39m\u001b[39m'\u001b[39m\u001b[39mInt\u001b[39m\u001b[39m'\u001b[39m)\n\u001b[1;32m      <a href='vscode-notebook-cell://attached-container%2B7b22636f6e7461696e65724e616d65223a222f696e66616c6c69626c655f616c6c656e227d/workspace/int_infer/time_test.ipynb#X23sdnNjb2RlLXJlbW90ZQ%3D%3D?line=2'>3</a>\u001b[0m plt\u001b[39m.\u001b[39mhist(linear1_float, bins\u001b[39m=\u001b[39m\u001b[39m50\u001b[39m, alpha\u001b[39m=\u001b[39m\u001b[39m0.5\u001b[39m, histtype\u001b[39m=\u001b[39m\u001b[39m'\u001b[39m\u001b[39mstepfilled\u001b[39m\u001b[39m'\u001b[39m, color\u001b[39m=\u001b[39m\u001b[39m'\u001b[39m\u001b[39mred\u001b[39m\u001b[39m'\u001b[39m, label\u001b[39m=\u001b[39m\u001b[39m'\u001b[39m\u001b[39mFloat\u001b[39m\u001b[39m'\u001b[39m)\n\u001b[1;32m      <a href='vscode-notebook-cell://attached-container%2B7b22636f6e7461696e65724e616d65223a222f696e66616c6c69626c655f616c6c656e227d/workspace/int_infer/time_test.ipynb#X23sdnNjb2RlLXJlbW90ZQ%3D%3D?line=3'>4</a>\u001b[0m plt\u001b[39m.\u001b[39mhist(linear1_pytorch, bins\u001b[39m=\u001b[39m\u001b[39m50\u001b[39m, alpha\u001b[39m=\u001b[39m\u001b[39m0.5\u001b[39m, histtype\u001b[39m=\u001b[39m\u001b[39m'\u001b[39m\u001b[39mstepfilled\u001b[39m\u001b[39m'\u001b[39m, color\u001b[39m=\u001b[39m\u001b[39m'\u001b[39m\u001b[39mgreen\u001b[39m\u001b[39m'\u001b[39m, label\u001b[39m=\u001b[39m\u001b[39m'\u001b[39m\u001b[39mPytorch\u001b[39m\u001b[39m'\u001b[39m)\n",
      "\u001b[0;31mNameError\u001b[0m: name 'linear1_int' is not defined"
     ]
    },
    {
     "data": {
      "text/plain": [
       "<Figure size 1000x500 with 0 Axes>"
      ]
     },
     "metadata": {},
     "output_type": "display_data"
    }
   ],
   "source": [
    "plt.figure(figsize=(10,5))\n",
    "plt.hist(linear1_int, bins=50, alpha=0.7, histtype='stepfilled', label='Int')\n",
    "plt.hist(linear1_float, bins=50, alpha=0.5, histtype='stepfilled', color='red', label='Float')\n",
    "plt.hist(linear1_pytorch, bins=50, alpha=0.5, histtype='stepfilled', color='green', label='Pytorch')\n",
    "plt.legend()\n",
    "# plt.xlim(0,1)\n",
    "plt.show()"
   ]
  },
  {
   "cell_type": "code",
   "execution_count": null,
   "metadata": {},
   "outputs": [
    {
     "data": {
      "image/png": "[encoded data removed]",
      "text/plain": [
       "<Figure size 1000x500 with 1 Axes>"
      ]
     },
     "metadata": {},
     "output_type": "display_data"
    }
   ],
   "source": [
    "plt.figure(figsize=(10,5))\n",
    "plt.hist(linear2_int, bins=50, alpha=0.7, histtype='stepfilled', label='Int')\n",
    "plt.hist(linear2_float, bins=50, alpha=0.5, histtype='stepfilled', color='red', label='Float')\n",
    "plt.hist(linear2_pytorch, bins=50, alpha=0.5, histtype='stepfilled', color='green', label='Pytorch')\n",
    "plt.legend()\n",
    "plt.show()"
   ]
  },
  {
   "cell_type": "code",
   "execution_count": null,
   "metadata": {},
   "outputs": [
    {
     "data": {
      "image/png": "[encoded data removed]",
      "text/plain": [
       "<Figure size 1000x500 with 1 Axes>"
      ]
     },
     "metadata": {},
     "output_type": "display_data"
    }
   ],
   "source": [
    "plt.figure(figsize=(10,5))\n",
    "plt.hist(linear3_int, bins=50, alpha=0.7, histtype='stepfilled', label='Int')\n",
    "plt.hist(linear3_float, bins=50, alpha=0.5, histtype='stepfilled', color='red', label='Float')\n",
    "plt.hist(linear3_pytorch, bins=50, alpha=0.5, histtype='stepfilled', color='green', label='Pytorch')\n",
    "plt.legend()\n",
    "plt.xlim(0, 0.5)\n",
    "plt.show()"
   ]
  },
  {
   "cell_type": "code",
   "execution_count": null,
   "metadata": {},
   "outputs": [],
   "source": [
    "from models import layers\n",
    "\n"
   ]
  },
  {
   "cell_type": "code",
   "execution_count": null,
   "metadata": {},
   "outputs": [],
   "source": []
  }
 ],
 "metadata": {
  "kernelspec": {
   "display_name": "base",
   "language": "python",
   "name": "python3"
  },
  "language_info": {
   "codemirror_mode": {
    "name": "ipython",
    "version": 3
   },
   "file_extension": ".py",
   "mimetype": "text/x-python",
   "name": "python",
   "nbconvert_exporter": "python",
   "pygments_lexer": "ipython3",
   "version": "3.10.11"
  }
 },
 "nbformat": 4,
 "nbformat_minor": 2
}

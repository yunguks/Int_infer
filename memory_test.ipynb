{
 "cells": [
  {
   "cell_type": "code",
   "execution_count": 1,
   "metadata": {},
   "outputs": [],
   "source": [
    "import torch\n",
    "import torch.nn as nn\n",
    "from models import vgg\n",
    "import torch.utils.benchmark as benchmark"
   ]
  },
  {
   "cell_type": "code",
   "execution_count": 9,
   "metadata": {},
   "outputs": [
    {
     "name": "stdout",
     "output_type": "stream",
     "text": [
      "--------------------------------------------------------------------------\n",
      "      Layer (type)            Input Shape         Param #     Tr. Param #\n",
      "==========================================================================\n",
      "          Conv2d-1       [1, 4, 224, 224]           2,368           2,368\n",
      "            ReLU-2      [1, 64, 224, 224]               0               0\n",
      "          Conv2d-3      [1, 64, 224, 224]          36,928          36,928\n",
      "            ReLU-4      [1, 64, 224, 224]               0               0\n",
      "       MaxPool2d-5      [1, 64, 224, 224]               0               0\n",
      "          Conv2d-6      [1, 64, 112, 112]          73,856          73,856\n",
      "            ReLU-7     [1, 128, 112, 112]               0               0\n",
      "          Conv2d-8     [1, 128, 112, 112]         147,584         147,584\n",
      "            ReLU-9     [1, 128, 112, 112]               0               0\n",
      "      MaxPool2d-10     [1, 128, 112, 112]               0               0\n",
      "         Conv2d-11       [1, 128, 56, 56]         295,168         295,168\n",
      "           ReLU-12       [1, 256, 56, 56]               0               0\n",
      "         Conv2d-13       [1, 256, 56, 56]         590,080         590,080\n",
      "           ReLU-14       [1, 256, 56, 56]               0               0\n",
      "         Conv2d-15       [1, 256, 56, 56]         590,080         590,080\n",
      "           ReLU-16       [1, 256, 56, 56]               0               0\n",
      "      MaxPool2d-17       [1, 256, 56, 56]               0               0\n",
      "         Conv2d-18       [1, 256, 28, 28]       1,180,160       1,180,160\n",
      "           ReLU-19       [1, 512, 28, 28]               0               0\n",
      "         Conv2d-20       [1, 512, 28, 28]       2,359,808       2,359,808\n",
      "           ReLU-21       [1, 512, 28, 28]               0               0\n",
      "         Conv2d-22       [1, 512, 28, 28]       2,359,808       2,359,808\n",
      "           ReLU-23       [1, 512, 28, 28]               0               0\n",
      "      MaxPool2d-24       [1, 512, 28, 28]               0               0\n",
      "         Conv2d-25       [1, 512, 14, 14]       2,359,808       2,359,808\n",
      "           ReLU-26       [1, 512, 14, 14]               0               0\n",
      "         Conv2d-27       [1, 512, 14, 14]       2,359,808       2,359,808\n",
      "           ReLU-28       [1, 512, 14, 14]               0               0\n",
      "         Conv2d-29       [1, 512, 14, 14]       2,359,808       2,359,808\n",
      "           ReLU-30       [1, 512, 14, 14]               0               0\n",
      "      MaxPool2d-31       [1, 512, 14, 14]               0               0\n",
      "         Linear-32             [1, 25088]     102,760,448     102,760,448\n",
      "           ReLU-33              [1, 4096]               0               0\n",
      "        Dropout-34              [1, 4096]               0               0\n",
      "         Linear-35              [1, 4096]      16,777,216      16,777,216\n",
      "           ReLU-36              [1, 4096]               0               0\n",
      "        Dropout-37              [1, 4096]               0               0\n",
      "         Linear-38              [1, 4096]         409,600         409,600\n",
      "==========================================================================\n",
      "Total params: 134,662,528\n",
      "Trainable params: 134,662,528\n",
      "Non-trainable params: 0\n",
      "--------------------------------------------------------------------------\n"
     ]
    }
   ],
   "source": [
    "from pytorch_model_summary import summary\n",
    "\n",
    "model = vgg.vgg16()\n",
    "tensor = torch.rand((1,4, 224,224)).cuda()\n",
    "print(summary(model,torch.zeros((1,4,224,224)),show_input=True))"
   ]
  },
  {
   "cell_type": "code",
   "execution_count": null,
   "metadata": {},
   "outputs": [
    {
     "name": "stdout",
     "output_type": "stream",
     "text": [
      "tensor([[nan, nan, nan, nan, nan, nan, nan, nan, nan, nan, nan, nan, nan, nan, nan, nan, nan, nan, nan, nan, nan, nan, nan, nan,\n",
      "         nan, nan, nan, nan, nan, nan, nan, nan, nan, nan, nan, nan, nan, nan, nan, nan, nan, nan, nan, nan, nan, nan, nan, nan,\n",
      "         nan, nan, nan, nan, nan, nan, nan, nan, nan, nan, nan, nan, nan, nan, nan, nan, nan, nan, nan, nan, nan, nan, nan, nan,\n",
      "         nan, nan, nan, nan, nan, nan, nan, nan, nan, nan, nan, nan, nan, nan, nan, nan, nan, nan, nan, nan, nan, nan, nan, nan,\n",
      "         nan, nan, nan, nan]], device='cuda:0')\n"
     ]
    }
   ],
   "source": [
    "model = vgg.float_vgg16()\n",
    "model.cuda()\n",
    "tensor = torch.rand((1,224,224,4)).cuda()\n",
    "print(model(tensor))"
   ]
  },
  {
   "cell_type": "code",
   "execution_count": null,
   "metadata": {},
   "outputs": [
    {
     "name": "stdout",
     "output_type": "stream",
     "text": [
      "     col1  col2  col3  col4  col5  col6\n",
      "old     1     2     3     4     5     6\n",
      "\n",
      "     col1  col2  col3  col4  col5  col6\n",
      "new     2     3     4     5     6     7\n",
      "\n",
      "     col1  col2  col3  col4  col5  col6\n",
      "old     1     2     3     4     5     6\n",
      "new     2     3     4     5     6     7\n",
      "\n"
     ]
    }
   ],
   "source": [
    "import pandas as pd\n",
    "\n",
    "r = [1,2,3,4,5,6]\n",
    "df = pd.DataFrame([r], columns=['col1', 'col2', 'col3', 'col4', 'col5', 'col6'], index=[\"old\"])\n",
    "print(df)\n",
    "print()\n",
    "b = [2,3,4,5,6,7]\n",
    "b_df = pd.DataFrame([b], columns=['col1', 'col2', 'col3', 'col4', 'col5', 'col6'], index=[\"new\"])\n",
    "print(b_df)\n",
    "print()\n",
    "\n",
    "new_df = pd.concat([df,b_df])\n",
    "print(new_df)\n",
    "print()"
   ]
  },
  {
   "cell_type": "code",
   "execution_count": null,
   "metadata": {},
   "outputs": [],
   "source": []
  }
 ],
 "metadata": {
  "kernelspec": {
   "display_name": "base",
   "language": "python",
   "name": "python3"
  },
  "language_info": {
   "codemirror_mode": {
    "name": "ipython",
    "version": 3
   },
   "file_extension": ".py",
   "mimetype": "text/x-python",
   "name": "python",
   "nbconvert_exporter": "python",
   "pygments_lexer": "ipython3",
   "version": "3.10.11"
  }
 },
 "nbformat": 4,
 "nbformat_minor": 2
}
